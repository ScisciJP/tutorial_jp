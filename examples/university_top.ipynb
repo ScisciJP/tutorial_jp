{
 "cells": [
  {
   "cell_type": "markdown",
   "metadata": {},
   "source": [
    "# 機関別 top 1% 論文数\n",
    "\n",
    "あなたの所属する機関から出る論文の top 1% 論文の割合を計算します。\n",
    "\n",
    "Shift + Enterキーで上から順に実行してみてください。"
   ]
  },
  {
   "cell_type": "code",
   "execution_count": 25,
   "metadata": {},
   "outputs": [],
   "source": [
    "# コードを走らせるための初期設定\n",
    "from pyalex import Works, Authors, Sources, Institutions, Concepts, Funders\n",
    "import pyalex\n",
    "\n",
    "import pandas as pd\n",
    "import numpy as np"
   ]
  },
  {
   "cell_type": "code",
   "execution_count": 6,
   "metadata": {},
   "outputs": [],
   "source": [
    "pyalex.config.email = 'your@mail.address'"
   ]
  },
  {
   "cell_type": "code",
   "execution_count": 31,
   "metadata": {},
   "outputs": [
    {
     "data": {
      "text/html": [
       "<div>\n",
       "<style scoped>\n",
       "    .dataframe tbody tr th:only-of-type {\n",
       "        vertical-align: middle;\n",
       "    }\n",
       "\n",
       "    .dataframe tbody tr th {\n",
       "        vertical-align: top;\n",
       "    }\n",
       "\n",
       "    .dataframe thead th {\n",
       "        text-align: right;\n",
       "    }\n",
       "</style>\n",
       "<table border=\"1\" class=\"dataframe\">\n",
       "  <thead>\n",
       "    <tr style=\"text-align: right;\">\n",
       "      <th></th>\n",
       "      <th>id</th>\n",
       "      <th>display_name</th>\n",
       "    </tr>\n",
       "  </thead>\n",
       "  <tbody>\n",
       "    <tr>\n",
       "      <th>0</th>\n",
       "      <td>https://openalex.org/I201537933</td>\n",
       "      <td>Tohoku University</td>\n",
       "    </tr>\n",
       "    <tr>\n",
       "      <th>1</th>\n",
       "      <td>https://openalex.org/I4210093896</td>\n",
       "      <td>Tohoku University Hospital</td>\n",
       "    </tr>\n",
       "    <tr>\n",
       "      <th>2</th>\n",
       "      <td>https://openalex.org/I85324120</td>\n",
       "      <td>Tohoku Medical and Pharmaceutical University</td>\n",
       "    </tr>\n",
       "    <tr>\n",
       "      <th>3</th>\n",
       "      <td>https://openalex.org/I310553</td>\n",
       "      <td>Tohoku Gakuin University</td>\n",
       "    </tr>\n",
       "    <tr>\n",
       "      <th>4</th>\n",
       "      <td>https://openalex.org/I111288359</td>\n",
       "      <td>Tohoku Fukushi University</td>\n",
       "    </tr>\n",
       "    <tr>\n",
       "      <th>5</th>\n",
       "      <td>https://openalex.org/I150026939</td>\n",
       "      <td>Tohoku Bunka Gakuen University</td>\n",
       "    </tr>\n",
       "    <tr>\n",
       "      <th>6</th>\n",
       "      <td>https://openalex.org/I68561585</td>\n",
       "      <td>Tohoku University of Community Service and Sci...</td>\n",
       "    </tr>\n",
       "    <tr>\n",
       "      <th>7</th>\n",
       "      <td>https://openalex.org/I4210138310</td>\n",
       "      <td>Tohoku Medical and Pharmaceutical University H...</td>\n",
       "    </tr>\n",
       "    <tr>\n",
       "      <th>8</th>\n",
       "      <td>https://openalex.org/I2394712</td>\n",
       "      <td>Tohoku University of Art and Design</td>\n",
       "    </tr>\n",
       "    <tr>\n",
       "      <th>9</th>\n",
       "      <td>https://openalex.org/I4210166042</td>\n",
       "      <td>Tohoku Medical and Pharmaceutical University W...</td>\n",
       "    </tr>\n",
       "    <tr>\n",
       "      <th>10</th>\n",
       "      <td>https://openalex.org/I4210099497</td>\n",
       "      <td>Tohoku Bunkyo University</td>\n",
       "    </tr>\n",
       "    <tr>\n",
       "      <th>11</th>\n",
       "      <td>https://openalex.org/I2799323252</td>\n",
       "      <td>Tohoku Seikatsu Bunka University</td>\n",
       "    </tr>\n",
       "    <tr>\n",
       "      <th>12</th>\n",
       "      <td>https://openalex.org/I4387152242</td>\n",
       "      <td>Institute for Materials Research, Tohoku Unive...</td>\n",
       "    </tr>\n",
       "  </tbody>\n",
       "</table>\n",
       "</div>"
      ],
      "text/plain": [
       "                                  id  \\\n",
       "0    https://openalex.org/I201537933   \n",
       "1   https://openalex.org/I4210093896   \n",
       "2     https://openalex.org/I85324120   \n",
       "3       https://openalex.org/I310553   \n",
       "4    https://openalex.org/I111288359   \n",
       "5    https://openalex.org/I150026939   \n",
       "6     https://openalex.org/I68561585   \n",
       "7   https://openalex.org/I4210138310   \n",
       "8      https://openalex.org/I2394712   \n",
       "9   https://openalex.org/I4210166042   \n",
       "10  https://openalex.org/I4210099497   \n",
       "11  https://openalex.org/I2799323252   \n",
       "12  https://openalex.org/I4387152242   \n",
       "\n",
       "                                         display_name  \n",
       "0                                   Tohoku University  \n",
       "1                          Tohoku University Hospital  \n",
       "2        Tohoku Medical and Pharmaceutical University  \n",
       "3                            Tohoku Gakuin University  \n",
       "4                           Tohoku Fukushi University  \n",
       "5                      Tohoku Bunka Gakuen University  \n",
       "6   Tohoku University of Community Service and Sci...  \n",
       "7   Tohoku Medical and Pharmaceutical University H...  \n",
       "8                 Tohoku University of Art and Design  \n",
       "9   Tohoku Medical and Pharmaceutical University W...  \n",
       "10                           Tohoku Bunkyo University  \n",
       "11                   Tohoku Seikatsu Bunka University  \n",
       "12  Institute for Materials Research, Tohoku Unive...  "
      ]
     },
     "execution_count": 31,
     "metadata": {},
     "output_type": "execute_result"
    }
   ],
   "source": [
    "# あなたの機関の名前を英語で入力してください。\n",
    "# 何も出なければ、いくつかの他の名前で検索を試してみてください。\n",
    "your_institution_name = \"Tohoku University\"\n",
    "\n",
    "pd.DataFrame(Institutions().search(your_institution_name).select([\"id\", \"display_name\"]).get())"
   ]
  },
  {
   "cell_type": "code",
   "execution_count": 32,
   "metadata": {},
   "outputs": [
    {
     "name": "stdout",
     "output_type": "stream",
     "text": [
      "あなたの機関のトップ1%の論文数は 19787 です。\n"
     ]
    }
   ],
   "source": [
    "# 検索で正しい機関が出ていれば、下にIDを入力してください。\n",
    "\n",
    "your_institution_id = \"https://openalex.org/I201537933\"\n",
    "\n",
    "# top 1 % 論文が欲しい場合、percentile = 1。\n",
    "# top 10 % 論文が欲しい場合、percentile = 10に変更も可能。\n",
    "percentile = 1\n",
    "\n",
    "# 条件に当てはまるもののみを検索(filter)し、その数を数える(count)。\n",
    "count = Works().filter(\n",
    "    authorships={\"affiliations\":{\"institution_ids\":your_institution_id}},\n",
    "    citation_normalized_percentile={\"value\":f\">{ 1 - percentile /100}\"}\n",
    ").count()\n",
    "\n",
    "print(f\"あなたの機関のトップ{percentile}%の論文数は {count} です。\")"
   ]
  },
  {
   "cell_type": "code",
   "execution_count": 44,
   "metadata": {},
   "outputs": [
    {
     "name": "stdout",
     "output_type": "stream",
     "text": [
      "日本の教育研究機関の top1%の論文数は 310715 本です。\n",
      "日本の教育研究機関の top1%の論文数の平均は 220.1 本です。\n"
     ]
    }
   ],
   "source": [
    "# 条件に当てはまるもののみを検索(filter)し、その数を数える(count)。\n",
    "institution_count = Institutions().filter(\n",
    "    country_code=\"JP\",\n",
    "    type=\"education\"\n",
    ").count()\n",
    "\n",
    "work_count = Works().filter(\n",
    "    authorships={\n",
    "        \"countries\":\"JP\",\n",
    "        \"institutions\":{\"type\":\"education\"}\n",
    "    },\n",
    "\n",
    "    citation_normalized_percentile={\"value\":f\">{ 1 - percentile /100}\"}\n",
    ").count()\n",
    "\n",
    "print(f\"日本の教育研究機関の top{percentile}%の論文数は {work_count} 本です。\")\n",
    "print(f\"日本の教育研究機関の top{percentile}%の論文数の平均は {work_count / institution_count :.1f} 本です。\")"
   ]
  },
  {
   "cell_type": "code",
   "execution_count": 47,
   "metadata": {},
   "outputs": [
    {
     "name": "stdout",
     "output_type": "stream",
     "text": [
      "世界の教育研究機関の top1%の論文数は全部で 7678865 本です。\n",
      "世界の教育研究機関の top1%の論文数の平均は 358.9 本です。\n"
     ]
    }
   ],
   "source": [
    "# 条件に当てはまるもののみを検索(filter)し、その数を数える(count)。\n",
    "institution_count = Institutions().filter(\n",
    "    # country_code=\"US\", # この条件を含めると、アメリカの研究機関のみが対象になります。\n",
    "    type=\"education\"\n",
    ").count()\n",
    "\n",
    "work_count = Works().filter(\n",
    "    authorships={\n",
    "        # \"countries\":\"US\", # この条件を含めると、アメリカの研究機関のみが対象になります。\n",
    "        \"institutions\":{\"type\":\"education\"}\n",
    "    },\n",
    "    citation_normalized_percentile={\"value\":f\">{ 1 - percentile /100}\"}\n",
    ").count()\n",
    "\n",
    "print(f\"世界の教育研究機関の top{percentile}%の論文数は全部で {work_count} 本です。\")\n",
    "print(f\"世界の教育研究機関の top{percentile}%の論文数の平均は {work_count / institution_count :.1f} 本です。\")"
   ]
  },
  {
   "cell_type": "markdown",
   "metadata": {},
   "source": [
    "## より詳しく知りたい方は、来年の ScisciTutorialに参加してください\n",
    "過年度の情報：　https://sciscijp.github.io/scisciconfJP2024/"
   ]
  }
 ],
 "metadata": {
  "kernelspec": {
   "display_name": "Python 3",
   "language": "python",
   "name": "python3"
  },
  "language_info": {
   "codemirror_mode": {
    "name": "ipython",
    "version": 3
   },
   "file_extension": ".py",
   "mimetype": "text/x-python",
   "name": "python",
   "nbconvert_exporter": "python",
   "pygments_lexer": "ipython3",
   "version": "3.9.6"
  }
 },
 "nbformat": 4,
 "nbformat_minor": 2
}
